{
 "cells": [
  {
   "cell_type": "code",
   "execution_count": 8,
   "metadata": {},
   "outputs": [
    {
     "name": "stderr",
     "output_type": "stream",
     "text": [
      "2023-03-15 13:05:10,997 - pyswarms.single.global_best - INFO - Optimize for 1000 iters with {'c1': 0.5, 'c2': 0.3, 'w': 0.9}\n",
      "pyswarms.single.global_best: 100%|██████████|1000/1000, best_cost=0.0803\n",
      "2023-03-15 13:05:12,572 - pyswarms.single.global_best - INFO - Optimization finished | best cost: 0.08027163265225741, best pos: [0.16041655 0.0928021  0.00123688 0.18760579 0.10313886 0.00953135]\n"
     ]
    },
    {
     "data": {
      "text/plain": [
       "(0.08027163265225741,\n",
       " array([0.16041655, 0.0928021 , 0.00123688, 0.18760579, 0.10313886,\n",
       "        0.00953135]))"
      ]
     },
     "execution_count": 8,
     "metadata": {},
     "output_type": "execute_result"
    }
   ],
   "source": [
    "import pyswarms as ps\n",
    "from pyswarms.utils.functions import single_obj as fx\n",
    "import math\n",
    "import numpy as np\n",
    "\n",
    "options = {'c1': 0.5, 'c2': 0.3, 'w':0.9}\n",
    "max = np.ones(6)\n",
    "min = np.zeros(6)\n",
    "my_bounds = (min, max)\n",
    "\n",
    "\n",
    "# x, y, z, u, v, w\n",
    "def endurance(dimensions):\n",
    "    for i in dimensions:\n",
    "        dimensions[i] = math.exp(-2*(y-math.sin(x))**2)+math.sin(z*u)+math.cos(v*w)\n",
    "\n",
    "optimizer = ps.single.GlobalBestPSO(n_particles=10, dimensions=6, options=options,bounds=my_bounds)\n",
    "optimizer.optimize(fx.sphere, iters=1000)"
   ]
  }
 ],
 "metadata": {
  "kernelspec": {
   "display_name": "Python 3",
   "language": "python",
   "name": "python3"
  },
  "language_info": {
   "codemirror_mode": {
    "name": "ipython",
    "version": 3
   },
   "file_extension": ".py",
   "mimetype": "text/x-python",
   "name": "python",
   "nbconvert_exporter": "python",
   "pygments_lexer": "ipython3",
   "version": "3.10.0"
  },
  "orig_nbformat": 4
 },
 "nbformat": 4,
 "nbformat_minor": 2
}
