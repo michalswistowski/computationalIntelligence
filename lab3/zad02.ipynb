{
 "cells": [
  {
   "cell_type": "code",
   "execution_count": null,
   "metadata": {},
   "outputs": [],
   "source": [
    "import pygad\n",
    "\n",
    "map = [ [1,1,1,1,1,1,1,1,1,1,1,1],\n",
    "        [1,2,0,0,1,0,0,0,1,0,0,1],\n",
    "        [1,1,1,0,0,0,1,0,1,1,0,1],\n",
    "        [1,0,0,0,1,0,1,0,0,0,0,1],\n",
    "        [1,0,1,1,1,0,1,0,1,1,1,1],\n",
    "        [1,0,1,0,1,1,0,0,1,1,0,1],\n",
    "        [1,0,0,0,0,0,1,0,0,0,1,1],\n",
    "        [1,0,1,0,0,1,1,0,1,0,0,1],\n",
    "        [1,0,1,1,1,0,0,0,1,1,0,1],\n",
    "        [1,0,1,0,1,1,0,1,0,1,0,1],\n",
    "        [1,0,1,0,0,0,0,0,0,0,3,1],\n",
    "        [1,1,1,1,1,1,1,1,1,1,1,1] ]\n",
    "\n",
    "gene_space = [0, 1, 2, 3]"
   ]
  },
  {
   "attachments": {},
   "cell_type": "markdown",
   "metadata": {},
   "source": [
    "mapa jako kod, wartości genu"
   ]
  },
  {
   "cell_type": "code",
   "execution_count": null,
   "metadata": {},
   "outputs": [],
   "source": [
    "def fitness_func(solution, solution_idx):\n",
    "    "
   ]
  }
 ],
 "metadata": {
  "kernelspec": {
   "display_name": "Python 3",
   "language": "python",
   "name": "python3"
  },
  "language_info": {
   "name": "python",
   "version": "3.10.0"
  },
  "orig_nbformat": 4
 },
 "nbformat": 4,
 "nbformat_minor": 2
}
