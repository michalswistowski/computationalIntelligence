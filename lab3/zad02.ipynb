{
 "cells": [
  {
   "cell_type": "code",
   "execution_count": 9,
   "metadata": {},
   "outputs": [],
   "source": [
    "import pygad\n",
    "\n",
    "map = [ [0,0,0,0,0,0,0,0,0,0,0,0],\n",
    "        [0,1,1,1,0,1,1,1,0,1,1,0],\n",
    "        [0,0,0,1,1,1,0,1,0,0,1,0],\n",
    "        [0,1,1,1,0,1,0,1,1,1,1,0],\n",
    "        [0,1,0,0,0,1,0,1,0,0,0,0],\n",
    "        [0,1,0,1,0,0,1,1,0,0,1,0],\n",
    "        [0,1,1,1,1,1,0,1,1,1,0,0],\n",
    "        [0,1,0,1,1,0,0,1,0,1,1,0],\n",
    "        [0,1,0,0,0,1,1,1,0,0,1,0],\n",
    "        [0,1,0,1,0,0,1,0,1,0,1,0],\n",
    "        [0,1,0,1,1,1,1,1,1,1,1,0],\n",
    "        [0,0,0,0,0,0,0,0,0,0,0,0] ]\n",
    "\n",
    "# 0 - dół\n",
    "# 1 - góra\n",
    "# 2 - prawo\n",
    "# 3 - lewo\n",
    "gene_space = [0, 1, 2, 3]"
   ]
  },
  {
   "attachments": {},
   "cell_type": "markdown",
   "metadata": {},
   "source": [
    "mapa jako kod, wartości genu"
   ]
  },
  {
   "cell_type": "code",
   "execution_count": 10,
   "metadata": {},
   "outputs": [],
   "source": [
    "def fitness_func(solution, solution_idx):\n",
    "    pos = [1,1]\n",
    "    for i in range(len(solution)):\n",
    "        before = pos\n",
    "        if pos[0] == 10 and pos[1] == 10:\n",
    "            return 1000 - i\n",
    "        if solution[i] == 0:\n",
    "            pos = [pos[0] + 1,pos[1]] #dół\n",
    "        elif solution[i] == 1:\n",
    "            pos = [pos[0] - 1,pos[1]] #góra\n",
    "        elif solution[i] == 2:\n",
    "            pos = [pos[0],pos[1] + 1] #prawo\n",
    "        elif solution[i] == 3:\n",
    "            pos = [pos[0],pos[1] - 1] #lewo\n",
    "        if map[pos[0]][pos[1]] == 0:\n",
    "            pos = before\n",
    "        \n",
    "    return (pos[0] * pos[1])\n",
    "\n",
    "fitness_function = fitness_func"
   ]
  },
  {
   "attachments": {},
   "cell_type": "markdown",
   "metadata": {},
   "source": [
    "funkcja fitness, symulacja poruszania sie po mapie, 0- sciany, 1-wolne miejsca, jak wejdziemy na sciane to wracamy do poprzedniej pozycji (\"odbijamy sie\"), jak dotrzemy na miejsce fitness osiaga najwieksza wartosc pomniejszona o liczbe ruchow, zwracany fitness to iloraz pozycji na mapie"
   ]
  },
  {
   "cell_type": "code",
   "execution_count": 11,
   "metadata": {},
   "outputs": [],
   "source": [
    "sol_per_pop = 100\n",
    "num_genes = 30"
   ]
  },
  {
   "attachments": {},
   "cell_type": "markdown",
   "metadata": {},
   "source": [
    "ile chromosomow w populacji, ile genow ma chromosom"
   ]
  },
  {
   "cell_type": "code",
   "execution_count": 12,
   "metadata": {},
   "outputs": [],
   "source": [
    "num_generations = 1000\n",
    "num_parents_mating = 30\n",
    "keep_parents = 5"
   ]
  },
  {
   "attachments": {},
   "cell_type": "markdown",
   "metadata": {},
   "source": [
    "ile wylaniamy rodzicow do \"rozmanazania\" (okolo 50% populacji)\n",
    "ile pokolen\n",
    "ilu rodzicow zachowac (kilka procent)"
   ]
  },
  {
   "cell_type": "code",
   "execution_count": 13,
   "metadata": {},
   "outputs": [],
   "source": [
    "parent_selection_type = \"sss\"\n",
    "crossover_type = \"single_point\""
   ]
  },
  {
   "attachments": {},
   "cell_type": "markdown",
   "metadata": {},
   "source": [
    "jaki typ selekcji rodzicow?:\n",
    "sss = steady, rws=roulette, rank = rankingowa, tournament = turniejowa,\n",
    "w ilu punktach robic krzyzowanie?"
   ]
  },
  {
   "cell_type": "code",
   "execution_count": 14,
   "metadata": {},
   "outputs": [],
   "source": [
    "mutation_type = \"random\"\n",
    "mutation_percent_genes = 10"
   ]
  },
  {
   "attachments": {},
   "cell_type": "markdown",
   "metadata": {},
   "source": [
    "mutacja ma dzialac na ilu procent genow?\n",
    "trzeba pamietac ile genow ma chromosom"
   ]
  },
  {
   "cell_type": "code",
   "execution_count": 15,
   "metadata": {},
   "outputs": [],
   "source": [
    "ga_instance = pygad.GA(gene_space=gene_space,\n",
    "                       num_generations=num_generations,\n",
    "                       num_parents_mating=num_parents_mating,\n",
    "                       fitness_func=fitness_function,\n",
    "                       sol_per_pop=sol_per_pop,\n",
    "                       num_genes=num_genes,\n",
    "                       parent_selection_type=parent_selection_type,\n",
    "                       keep_parents=keep_parents,\n",
    "                       crossover_type=crossover_type,\n",
    "                       mutation_type=mutation_type,\n",
    "                       mutation_percent_genes=mutation_percent_genes)\n",
    "\n",
    "ga_instance.run()"
   ]
  },
  {
   "attachments": {},
   "cell_type": "markdown",
   "metadata": {},
   "source": [
    "inicjacja algorytmu z powyzszymi parametrami"
   ]
  },
  {
   "cell_type": "code",
   "execution_count": 16,
   "metadata": {},
   "outputs": [
    {
     "name": "stdout",
     "output_type": "stream",
     "text": [
      "Fitness of the best solution : 978\n",
      "Best solution : [2. 2. 0. 2. 2. 1. 2. 2. 1. 0. 0. 0. 0. 0. 2. 2. 0. 2. 2. 0. 0. 0. 0. 2.\n",
      " 0. 0. 2. 0. 2. 0.]\n"
     ]
    }
   ],
   "source": [
    "solution, solution_fitness, solution_idx = ga_instance.best_solution()\n",
    "print(\"Fitness of the best solution : {solution_fitness}\".format(solution_fitness=solution_fitness))\n",
    "print(\"Best solution : {solution}\".format(solution=solution))\n",
    "\n"
   ]
  },
  {
   "attachments": {},
   "cell_type": "markdown",
   "metadata": {},
   "source": [
    "wyniki"
   ]
  }
 ],
 "metadata": {
  "kernelspec": {
   "display_name": "Python 3",
   "language": "python",
   "name": "python3"
  },
  "language_info": {
   "codemirror_mode": {
    "name": "ipython",
    "version": 3
   },
   "file_extension": ".py",
   "mimetype": "text/x-python",
   "name": "python",
   "nbconvert_exporter": "python",
   "pygments_lexer": "ipython3",
   "version": "3.10.0"
  },
  "orig_nbformat": 4
 },
 "nbformat": 4,
 "nbformat_minor": 2
}
