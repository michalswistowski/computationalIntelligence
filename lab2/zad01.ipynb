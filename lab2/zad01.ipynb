{
 "cells": [
  {
   "cell_type": "code",
   "execution_count": 85,
   "metadata": {},
   "outputs": [
    {
     "name": "stdout",
     "output_type": "stream",
     "text": [
      "          przedmiot  wartosc  waga\n",
      "0             zegar      100     7\n",
      "1      obraz-pejzaż      300     7\n",
      "2     obraz-portret      200     6\n",
      "3             radio       40     2\n",
      "4            laptop      500     5\n",
      "5      lampka nocna       70     6\n",
      "6   srebrne sztućce      100     1\n",
      "7         porcelana      250     3\n",
      "8    figura z brązu      300    10\n",
      "9   skózana torebka      280     3\n",
      "10        odkurzacz      300    15\n"
     ]
    }
   ],
   "source": [
    "import pygad\n",
    "import pandas as pd\n",
    "\n",
    "przedmioty = pd.read_csv('./plecak.csv')\n",
    "print(przedmioty)\n"
   ]
  },
  {
   "attachments": {},
   "cell_type": "markdown",
   "metadata": {},
   "source": [
    "potrzebne paczki"
   ]
  },
  {
   "cell_type": "code",
   "execution_count": 86,
   "metadata": {},
   "outputs": [
    {
     "name": "stdout",
     "output_type": "stream",
     "text": [
      "[100, 300, 200, 40, 500, 70, 100, 250, 300, 280, 300]\n",
      "[7, 7, 6, 2, 5, 6, 1, 3, 10, 3, 15]\n"
     ]
    }
   ],
   "source": [
    "S = [\n",
    "    (\"zegar\", 100, 7),\n",
    "    (\"obraz-pejzaż\", 300, 7),\n",
    "    (\"obraz-portret\", 200, 6),\n",
    "    (\"radio\", 40, 2),\n",
    "    (\"laptop\", 500, 5),\n",
    "    (\"lampka nocna\", 70, 6),\n",
    "    (\"srebrne sztućce\", 100, 1),\n",
    "    (\"porcelana\", 250, 3),\n",
    "    (\"figura z brązu\", 300, 10),\n",
    "    (\"skórzana torebka\", 280, 3),\n",
    "    (\"odkurzacz\", 300, 15)\n",
    "]\n",
    "\n",
    "values = []\n",
    "for value in S:\n",
    "    values.append(value[1])\n",
    "\n",
    "weights = []\n",
    "for weight in S:\n",
    "    weights.append(weight[2])\n",
    "\n",
    "print(values)\n",
    "print(weights)\n",
    "\n",
    "gene_space = [0, 1]"
   ]
  },
  {
   "attachments": {},
   "cell_type": "markdown",
   "metadata": {},
   "source": [
    "geny to liczby 0 lub 1"
   ]
  },
  {
   "cell_type": "code",
   "execution_count": 87,
   "metadata": {},
   "outputs": [],
   "source": [
    "def fitness_func(solution, solution_idx):\n",
    "    x = 0\n",
    "    sum = 0\n",
    "    fitness = 0\n",
    "    weight = 0\n",
    "    for i in solution:\n",
    "        if (i == 1.0):\n",
    "            sum += values[x]\n",
    "            weight += weights[x]\n",
    "        x += 1\n",
    "    if (weight <= 25):\n",
    "        fitness = sum\n",
    "    return fitness\n",
    "\n",
    "fitness_function = fitness_func\n"
   ]
  },
  {
   "attachments": {},
   "cell_type": "markdown",
   "metadata": {},
   "source": [
    "funkcja fitness"
   ]
  },
  {
   "cell_type": "code",
   "execution_count": 88,
   "metadata": {},
   "outputs": [],
   "source": [
    "sol_per_pop = 10\n",
    "num_genes = len(S)"
   ]
  },
  {
   "attachments": {},
   "cell_type": "markdown",
   "metadata": {},
   "source": [
    "ile chromsomów w populacji\n",
    "ile genow ma chromosom"
   ]
  },
  {
   "cell_type": "code",
   "execution_count": 89,
   "metadata": {},
   "outputs": [],
   "source": [
    "num_parents_mating = 5\n",
    "num_generations = 30\n",
    "keep_parents = 2"
   ]
  },
  {
   "attachments": {},
   "cell_type": "markdown",
   "metadata": {},
   "source": [
    "ile wylaniamy rodzicow do \"rozmanazania\" (okolo 50% populacji)\n",
    "ile pokolen\n",
    "ilu rodzicow zachowac (kilka procent)"
   ]
  },
  {
   "cell_type": "code",
   "execution_count": 90,
   "metadata": {},
   "outputs": [],
   "source": [
    "parent_selection_type = \"sss\""
   ]
  },
  {
   "attachments": {},
   "cell_type": "markdown",
   "metadata": {},
   "source": [
    "jaki typ selekcji rodzicow?:\n",
    "sss = steady, rws=roulette, rank = rankingowa, tournament = turniejowa"
   ]
  },
  {
   "cell_type": "code",
   "execution_count": 91,
   "metadata": {},
   "outputs": [],
   "source": [
    "crossover_type = \"single_point\""
   ]
  },
  {
   "attachments": {},
   "cell_type": "markdown",
   "metadata": {},
   "source": [
    "w ilu punktach robic krzyzowanie?"
   ]
  },
  {
   "cell_type": "code",
   "execution_count": 92,
   "metadata": {},
   "outputs": [],
   "source": [
    "mutation_type = \"random\"\n",
    "mutation_percent_genes = 10"
   ]
  },
  {
   "attachments": {},
   "cell_type": "markdown",
   "metadata": {},
   "source": [
    "mutacja ma dzialac na ilu procent genow?\n",
    "trzeba pamietac ile genow ma chromosom"
   ]
  },
  {
   "cell_type": "code",
   "execution_count": 93,
   "metadata": {},
   "outputs": [],
   "source": [
    "ga_instance = pygad.GA(gene_space=gene_space,\n",
    "                       num_generations=num_generations,\n",
    "                       num_parents_mating=num_parents_mating,\n",
    "                       fitness_func=fitness_function,\n",
    "                       sol_per_pop=sol_per_pop,\n",
    "                       num_genes=num_genes,\n",
    "                       parent_selection_type=parent_selection_type,\n",
    "                       keep_parents=keep_parents,\n",
    "                       crossover_type=crossover_type,\n",
    "                       mutation_type=mutation_type,\n",
    "                       mutation_percent_genes=mutation_percent_genes)"
   ]
  },
  {
   "attachments": {},
   "cell_type": "markdown",
   "metadata": {},
   "source": [
    "inicjacja algorytmu z powyzszymi parametrami wpisanymi w atrybuty"
   ]
  },
  {
   "cell_type": "code",
   "execution_count": 94,
   "metadata": {},
   "outputs": [],
   "source": [
    "ga_instance.run()"
   ]
  },
  {
   "attachments": {},
   "cell_type": "markdown",
   "metadata": {},
   "source": [
    "uruchomienie algorytmu"
   ]
  },
  {
   "cell_type": "code",
   "execution_count": 95,
   "metadata": {},
   "outputs": [
    {
     "name": "stdout",
     "output_type": "stream",
     "text": [
      "Parameters of the best solution : [0. 1. 1. 0. 1. 0. 1. 1. 0. 1. 0.]\n",
      "Fitness value of the best solution = 1630\n"
     ]
    }
   ],
   "source": [
    "solution, solution_fitness, solution_idx = ga_instance.best_solution()\n",
    "print(\"Parameters of the best solution : {solution}\".format(solution=solution))\n",
    "print(\"Fitness value of the best solution = {solution_fitness}\".format(solution_fitness=solution_fitness))"
   ]
  },
  {
   "attachments": {},
   "cell_type": "markdown",
   "metadata": {},
   "source": [
    "podsumowanie: najlepsze znalezione rozwiazanie (chromosom+ocena)"
   ]
  },
  {
   "cell_type": "code",
   "execution_count": 96,
   "metadata": {},
   "outputs": [
    {
     "data": {
      "image/png": "[encoded data removed]",
      "text/plain": [
       "<Figure size 640x480 with 1 Axes>"
      ]
     },
     "metadata": {},
     "output_type": "display_data"
    },
    {
     "data": {
      "image/png": "[encoded data removed]",
      "text/plain": [
       "<Figure size 640x480 with 1 Axes>"
      ]
     },
     "execution_count": 96,
     "metadata": {},
     "output_type": "execute_result"
    }
   ],
   "source": [
    "ga_instance.plot_fitness()"
   ]
  }
 ],
 "metadata": {
  "kernelspec": {
   "display_name": "Python 3",
   "language": "python",
   "name": "python3"
  },
  "language_info": {
   "codemirror_mode": {
    "name": "ipython",
    "version": 3
   },
   "file_extension": ".py",
   "mimetype": "text/x-python",
   "name": "python",
   "nbconvert_exporter": "python",
   "pygments_lexer": "ipython3",
   "version": "3.10.0"
  },
  "orig_nbformat": 4,
  "vscode": {
   "interpreter": {
    "hash": "47f66ed0c457029d8c48976f1f4f13bc1eedda5b6ce6736108c67e4cf402f3fe"
   }
  }
 },
 "nbformat": 4,
 "nbformat_minor": 2
}
