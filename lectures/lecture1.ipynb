{
 "cells": [
  {
   "cell_type": "code",
   "execution_count": null,
   "metadata": {},
   "outputs": [],
   "source": []
  }
 ],
 "metadata": {
  "kernelspec": {
   "display_name": "Python 3",
   "language": "python",
   "name": "python3"
  },
  "language_info": {
   "name": "python",
   "version": "3.10.0"
  },
  "orig_nbformat": 4,
  "vscode": {
   "interpreter": {
    "hash": "47f66ed0c457029d8c48976f1f4f13bc1eedda5b6ce6736108c67e4cf402f3fe"
   }
  }
 },
 "nbformat": 4,
 "nbformat_minor": 2
}
