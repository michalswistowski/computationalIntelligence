{
 "cells": [
  {
   "cell_type": "code",
   "execution_count": 5,
   "metadata": {},
   "outputs": [
    {
     "name": "stdout",
     "output_type": "stream",
     "text": [
      "0.7985341880063129\n"
     ]
    }
   ],
   "source": [
    "import numpy as np\n",
    "\n",
    "def forwardPass(wiek,waga,wzrost):\n",
    "    hidden1 = (wiek * -0.46122) + (waga * 0.97314) + (wzrost * -0.39203) + 0.80109\n",
    "    hidden1_po_aktywacji = 1/(1 + np.exp(-hidden1))\n",
    "    hidden2 = (wiek * 0.78548) + (waga * 2.10584) + (wzrost * -0.57847) + 0.43529\n",
    "    hidden2_po_aktywacji = 1/(1 + np.exp(-hidden2))\n",
    "    output = (hidden1_po_aktywacji * -0.81546) + (hidden2_po_aktywacji * 1.03775) - 0.2368\n",
    "    return output\n",
    "\n",
    "print(forwardPass(23,75,176))"
   ]
  }
 ],
 "metadata": {
  "kernelspec": {
   "display_name": "Python 3",
   "language": "python",
   "name": "python3"
  },
  "language_info": {
   "codemirror_mode": {
    "name": "ipython",
    "version": 3
   },
   "file_extension": ".py",
   "mimetype": "text/x-python",
   "name": "python",
   "nbconvert_exporter": "python",
   "pygments_lexer": "ipython3",
   "version": "3.10.0"
  },
  "orig_nbformat": 4
 },
 "nbformat": 4,
 "nbformat_minor": 2
}
